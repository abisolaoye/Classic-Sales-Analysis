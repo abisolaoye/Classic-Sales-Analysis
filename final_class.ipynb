{
 "cells": [
  {
   "cell_type": "code",
   "execution_count": 4,
   "id": "b741f404",
   "metadata": {},
   "outputs": [],
   "source": [
    "import pandas as pd\n",
    "import matplotlib.pyplot as plt"
   ]
  },
  {
   "cell_type": "code",
   "execution_count": 5,
   "id": "fe26c2cb",
   "metadata": {},
   "outputs": [],
   "source": [
    "df= pd.read_csv('C:\\\\Users\\\\HP\\\\Desktop\\\\sample\\\\salesdata.csv')"
   ]
  },
  {
   "cell_type": "code",
   "execution_count": null,
   "id": "6448e2f2",
   "metadata": {},
   "outputs": [],
   "source": [
    "df.info()\n",
    "print(df.isnull().mean().round(2))"
   ]
  },
  {
   "cell_type": "code",
   "execution_count": null,
   "id": "44f84da8",
   "metadata": {},
   "outputs": [],
   "source": [
    "#df['Address'] = df['Address'].fillna('Unknown')"
   ]
  },
  {
   "cell_type": "code",
   "execution_count": 7,
   "id": "07ccbace",
   "metadata": {},
   "outputs": [
    {
     "name": "stdout",
     "output_type": "stream",
     "text": [
      "object\n"
     ]
    }
   ],
   "source": [
    "print(df['ORDERDATE'].dtype)"
   ]
  },
  {
   "cell_type": "code",
   "execution_count": 12,
   "id": "6507bf30",
   "metadata": {},
   "outputs": [],
   "source": [
    "df['ORDERDATE'] = pd.to_datetime(df['ORDERDATE'])\n"
   ]
  },
  {
   "cell_type": "code",
   "execution_count": null,
   "id": "0abe53f3",
   "metadata": {},
   "outputs": [],
   "source": []
  },
  {
   "cell_type": "code",
   "execution_count": null,
   "id": "da9ee3e2",
   "metadata": {},
   "outputs": [],
   "source": [
    "# Extract parts of the date\n",
    "\n",
    "# Extract parts of the date\n",
    "df['Year'] = df['ORDERDATE'].dt.year\n",
    "df['Month'] = df['ORDERDATE'].dt.month_name()\n",
    "df['Weekday'] = df['ORDERDATE'].dt.day_name()\n",
    "df['Year'].astype('int')"
   ]
  },
  {
   "cell_type": "code",
   "execution_count": 17,
   "id": "8b7062a8",
   "metadata": {},
   "outputs": [
    {
     "data": {
      "image/png": "[encoded data removed]",
      "text/plain": [
       "<Figure size 640x480 with 1 Axes>"
      ]
     },
     "metadata": {},
     "output_type": "display_data"
    }
   ],
   "source": [
    "# Line plot of sales by year\n",
    "df.groupby('Year')['SALES'].sum().plot(kind='bar')\n",
    "plt.title('Yearly Sales')\n",
    "plt.show()"
   ]
  },
  {
   "cell_type": "code",
   "execution_count": null,
   "id": "2011b1e2",
   "metadata": {},
   "outputs": [],
   "source": []
  }
 ],
 "metadata": {
  "kernelspec": {
   "display_name": "Python 3",
   "language": "python",
   "name": "python3"
  },
  "language_info": {
   "codemirror_mode": {
    "name": "ipython",
    "version": 3
   },
   "file_extension": ".py",
   "mimetype": "text/x-python",
   "name": "python",
   "nbconvert_exporter": "python",
   "pygments_lexer": "ipython3",
   "version": "3.13.1"
  }
 },
 "nbformat": 4,
 "nbformat_minor": 5
}
