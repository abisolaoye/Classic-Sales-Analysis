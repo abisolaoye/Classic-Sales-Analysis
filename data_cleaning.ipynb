{
 "cells": [
  {
   "cell_type": "code",
   "execution_count": 2,
   "id": "0f6f2d30",
   "metadata": {},
   "outputs": [],
   "source": [
    "import pandas as pd"
   ]
  },
  {
   "cell_type": "code",
   "execution_count": 3,
   "id": "ba7096da",
   "metadata": {},
   "outputs": [],
   "source": [
    "df= pd.read_csv('C:\\\\Users\\\\HP\\\\Desktop\\\\sample\\\\salesdata.csv')"
   ]
  },
  {
   "cell_type": "code",
   "execution_count": 5,
   "id": "855fc94b",
   "metadata": {},
   "outputs": [
    {
     "name": "stdout",
     "output_type": "stream",
     "text": [
      "Index(['ORDERNUMBER', 'QUANTITYORDERED', 'PRICEEACH', 'ORDERLINENUMBER',\n",
      "       'SALES', 'ORDERDATE', 'STATUS', 'QTR_ID', 'MONTH_ID', 'YEAR_ID',\n",
      "       'PRODUCTLINE', 'MSRP', 'PRODUCTCODE', 'CUSTOMERNAME', 'PHONE',\n",
      "       'ADDRESSLINE1', 'ADDRESSLINE2', 'CITY', 'STATE', 'POSTALCODE',\n",
      "       'COUNTRY', 'TERRITORY', 'CONTACTLASTNAME', 'CONTACTFIRSTNAME',\n",
      "       'DEALSIZE'],\n",
      "      dtype='object')\n"
     ]
    }
   ],
   "source": [
    "print(df.columns)"
   ]
  },
  {
   "cell_type": "code",
   "execution_count": 10,
   "id": "920023d1",
   "metadata": {},
   "outputs": [
    {
     "data": {
      "text/html": [
       "<div>\n",
       "<style scoped>\n",
       "    .dataframe tbody tr th:only-of-type {\n",
       "        vertical-align: middle;\n",
       "    }\n",
       "\n",
       "    .dataframe tbody tr th {\n",
       "        vertical-align: top;\n",
       "    }\n",
       "\n",
       "    .dataframe thead th {\n",
       "        text-align: right;\n",
       "    }\n",
       "</style>\n",
       "<table border=\"1\" class=\"dataframe\">\n",
       "  <thead>\n",
       "    <tr style=\"text-align: right;\">\n",
       "      <th></th>\n",
       "      <th>SALES</th>\n",
       "      <th>QUANTITYORDERED</th>\n",
       "    </tr>\n",
       "    <tr>\n",
       "      <th>PRODUCTLINE</th>\n",
       "      <th></th>\n",
       "      <th></th>\n",
       "    </tr>\n",
       "  </thead>\n",
       "  <tbody>\n",
       "    <tr>\n",
       "      <th>Classic Cars</th>\n",
       "      <td>3919615.66</td>\n",
       "      <td>33992</td>\n",
       "    </tr>\n",
       "    <tr>\n",
       "      <th>Vintage Cars</th>\n",
       "      <td>1903150.84</td>\n",
       "      <td>21069</td>\n",
       "    </tr>\n",
       "    <tr>\n",
       "      <th>Motorcycles</th>\n",
       "      <td>1166388.34</td>\n",
       "      <td>11663</td>\n",
       "    </tr>\n",
       "    <tr>\n",
       "      <th>Trucks and Buses</th>\n",
       "      <td>1127789.84</td>\n",
       "      <td>10777</td>\n",
       "    </tr>\n",
       "    <tr>\n",
       "      <th>Planes</th>\n",
       "      <td>975003.57</td>\n",
       "      <td>10727</td>\n",
       "    </tr>\n",
       "    <tr>\n",
       "      <th>Ships</th>\n",
       "      <td>714437.13</td>\n",
       "      <td>8127</td>\n",
       "    </tr>\n",
       "    <tr>\n",
       "      <th>Trains</th>\n",
       "      <td>226243.47</td>\n",
       "      <td>2712</td>\n",
       "    </tr>\n",
       "  </tbody>\n",
       "</table>\n",
       "</div>"
      ],
      "text/plain": [
       "                       SALES  QUANTITYORDERED\n",
       "PRODUCTLINE                                  \n",
       "Classic Cars      3919615.66            33992\n",
       "Vintage Cars      1903150.84            21069\n",
       "Motorcycles       1166388.34            11663\n",
       "Trucks and Buses  1127789.84            10777\n",
       "Planes             975003.57            10727\n",
       "Ships              714437.13             8127\n",
       "Trains             226243.47             2712"
      ]
     },
     "execution_count": 10,
     "metadata": {},
     "output_type": "execute_result"
    }
   ],
   "source": [
    "df.groupby('PRODUCTLINE')[['SALES','QUANTITYORDERED']].sum().sort_values(by='SALES',ascending=False)"
   ]
  },
  {
   "cell_type": "code",
   "execution_count": null,
   "id": "0cbf2942",
   "metadata": {},
   "outputs": [],
   "source": [
    "df."
   ]
  },
  {
   "cell_type": "code",
   "execution_count": null,
   "id": "de6f9927",
   "metadata": {},
   "outputs": [],
   "source": [
    "df.info()"
   ]
  },
  {
   "cell_type": "code",
   "execution_count": 34,
   "id": "6d267005",
   "metadata": {},
   "outputs": [
    {
     "name": "stdout",
     "output_type": "stream",
     "text": [
      "ORDERNUMBER         0.0\n",
      "QUANTITYORDERED     0.0\n",
      "PRICEEACH           0.0\n",
      "ORDERLINENUMBER     0.0\n",
      "SALES               0.0\n",
      "ORDERDATE           0.0\n",
      "STATUS              0.0\n",
      "QTR_ID              0.0\n",
      "MONTH_ID            0.0\n",
      "YEAR_ID             0.0\n",
      "PRODUCTLINE         0.0\n",
      "MSRP                0.0\n",
      "PRODUCTCODE         0.0\n",
      "CUSTOMERNAME        0.0\n",
      "PHONE               0.0\n",
      "ADDRESSLINE1        0.0\n",
      "ADDRESSLINE2        0.0\n",
      "CITY                0.0\n",
      "STATE               0.0\n",
      "POSTALCODE          0.0\n",
      "COUNTRY             0.0\n",
      "TERRITORY           0.0\n",
      "CONTACTLASTNAME     0.0\n",
      "CONTACTFIRSTNAME    0.0\n",
      "DEALSIZE            0.0\n",
      "Year                0.0\n",
      "Month               0.0\n",
      "Weekday             0.0\n",
      "dtype: float64\n"
     ]
    }
   ],
   "source": [
    "print(df.isnull().mean().round(2))"
   ]
  },
  {
   "cell_type": "code",
   "execution_count": 35,
   "id": "8b737a99",
   "metadata": {},
   "outputs": [],
   "source": [
    "df.dropna(inplace=True)"
   ]
  },
  {
   "cell_type": "code",
   "execution_count": null,
   "id": "941833c4",
   "metadata": {},
   "outputs": [],
   "source": [
    "df.info()"
   ]
  },
  {
   "cell_type": "code",
   "execution_count": null,
   "id": "55a139f5",
   "metadata": {},
   "outputs": [],
   "source": [
    "df.head()"
   ]
  },
  {
   "cell_type": "code",
   "execution_count": 16,
   "id": "25d2ba6d",
   "metadata": {},
   "outputs": [],
   "source": [
    "\n",
    "\n",
    "# Reset index\n",
    "df.reset_index(drop=True, inplace=True)"
   ]
  },
  {
   "cell_type": "code",
   "execution_count": null,
   "id": "aa580c61",
   "metadata": {},
   "outputs": [],
   "source": [
    "df.head()"
   ]
  },
  {
   "cell_type": "code",
   "execution_count": 18,
   "id": "fb025c2b",
   "metadata": {},
   "outputs": [
    {
     "name": "stdout",
     "output_type": "stream",
     "text": [
      "object\n"
     ]
    }
   ],
   "source": [
    "print(df['ORDERDATE'].dtype)\n"
   ]
  },
  {
   "cell_type": "code",
   "execution_count": 22,
   "id": "1539f8eb",
   "metadata": {},
   "outputs": [],
   "source": [
    "# Fix data types\n",
    "df['ORDERDATE'] = pd.to_datetime(df['ORDERDATE'])"
   ]
  },
  {
   "cell_type": "code",
   "execution_count": 24,
   "id": "475052aa",
   "metadata": {},
   "outputs": [],
   "source": [
    "import matplotlib.pyplot as plt"
   ]
  },
  {
   "cell_type": "code",
   "execution_count": null,
   "id": "e942f5e1",
   "metadata": {},
   "outputs": [],
   "source": [
    "# Extract parts of the date\n",
    "df['Year'] = df['ORDERDATE'].dt.year\n",
    "df['Month'] = df['ORDERDATE'].dt.month_name()\n",
    "df['Weekday'] = df['ORDERDATE'].dt.day_name()\n",
    "df['Year'].astype('int')"
   ]
  },
  {
   "cell_type": "code",
   "execution_count": 33,
   "id": "60e2a9c8",
   "metadata": {},
   "outputs": [
    {
     "data": {
      "image/png": "[encoded data removed]",
      "text/plain": [
       "<Figure size 640x480 with 1 Axes>"
      ]
     },
     "metadata": {},
     "output_type": "display_data"
    }
   ],
   "source": [
    "# Line plot of sales by year\n",
    "df.groupby('Year')['SALES'].sum().plot(kind='bar')\n",
    "plt.title('Yearly Sales')\n",
    "plt.show()"
   ]
  }
 ],
 "metadata": {
  "kernelspec": {
   "display_name": "Python 3",
   "language": "python",
   "name": "python3"
  },
  "language_info": {
   "codemirror_mode": {
    "name": "ipython",
    "version": 3
   },
   "file_extension": ".py",
   "mimetype": "text/x-python",
   "name": "python",
   "nbconvert_exporter": "python",
   "pygments_lexer": "ipython3",
   "version": "3.13.1"
  }
 },
 "nbformat": 4,
 "nbformat_minor": 5
}
